{
 "cells": [
  {
   "cell_type": "markdown",
   "metadata": {
    "collapsed": true
   },
   "source": [
    "# Import built-in libraries."
   ]
  },
  {
   "cell_type": "code",
   "execution_count": 1,
   "metadata": {},
   "outputs": [],
   "source": [
    "import sqlite3 # https://docs.python.org/3/library/sqlite3.html\n",
    "import csv # https://docs.python.org/3/library/csv.html\n"
   ]
  },
  {
   "cell_type": "markdown",
   "metadata": {},
   "source": [
    "# CREATE TABLE player"
   ]
  },
  {
   "cell_type": "code",
   "execution_count": 2,
   "metadata": {},
   "outputs": [],
   "source": [
    "conn = sqlite3.connect(':memory:')\n",
    "cursor = conn.cursor()\n",
    "cursor.execute(\"\"\"CREATE TABLE player(\n",
    "    id VARCHAR(255) NOT NULL,\n",
    "    first_name VARCHAR(255) NOT NULL,\n",
    "    last_name VARCHAR(255)  NOT NULL,\n",
    "    PRIMARY KEY (id));\"\"\")\n",
    "conn.commit()\n",
    "\n"
   ]
  },
  {
   "cell_type": "markdown",
   "metadata": {},
   "source": [
    "# Import first 10 data from Players.csv into table player"
   ]
  },
  {
   "cell_type": "code",
   "execution_count": 3,
   "metadata": {},
   "outputs": [],
   "source": [
    "\n",
    "\n",
    "with open('assignment-01/Players.csv') as file:\n",
    "    reader = csv.DictReader(file)\n",
    "    for i, row in enumerate(reader):\n",
    "        id = row['playerid']\n",
    "        first = row['namefirst']\n",
    "        last = row['namelast']\n",
    "        sql = f\"\"\"INSERT INTO player VALUES('{id}', '{first}', '{last}');\"\"\"\n",
    "        # print(sql)\n",
    "        cursor.execute(sql)\n",
    "        if i > 10:\n",
    "            break\n",
    "    conn.commit()"
   ]
  },
  {
   "cell_type": "markdown",
   "metadata": {},
   "source": [
    "# Fetch all rows from table player"
   ]
  },
  {
   "cell_type": "code",
   "execution_count": 4,
   "metadata": {},
   "outputs": [
    {
     "name": "stdout",
     "output_type": "stream",
     "text": [
      "('aardsda01', 'David', 'Aardsma')\n('aaronha01', 'Hank', 'Aaron')\n('aaronto01', 'Tommie', 'Aaron')\n('aasedo01', 'Don', 'Aase')\n('abadan01', 'Andy', 'Abad')\n('abadfe01', 'Fernando', 'Abad')\n('abadijo01', 'John', 'Abadie')\n('abbated01', 'Ed', 'Abbaticchio')\n('abbeybe01', 'Bert', 'Abbey')\n('abbeych01', 'Charlie', 'Abbey')\n('abbotda01', 'Dan', 'Abbott')\n('abbotfr01', 'Fred', 'Abbott')\n"
     ]
    }
   ],
   "source": [
    "cursor.execute(\"\"\"SELECT * FROM player\"\"\")\n",
    "for row in cursor:\n",
    "    print(row)"
   ]
  },
  {
   "cell_type": "code",
   "execution_count": null,
   "metadata": {},
   "outputs": [],
   "source": []
  }
 ],
 "metadata": {
  "kernelspec": {
   "display_name": "Python 2",
   "language": "python",
   "name": "python2"
  },
  "language_info": {
   "codemirror_mode": {
    "name": "ipython",
    "version": 2
   },
   "file_extension": ".py",
   "mimetype": "text/x-python",
   "name": "python",
   "nbconvert_exporter": "python",
   "pygments_lexer": "ipython2",
   "version": "2.7.6"
  }
 },
 "nbformat": 4,
 "nbformat_minor": 0
}
